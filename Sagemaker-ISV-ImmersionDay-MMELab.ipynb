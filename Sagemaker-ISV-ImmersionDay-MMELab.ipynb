{
 "cells": [
  {
   "cell_type": "code",
   "execution_count": 11,
   "metadata": {},
   "outputs": [],
   "source": [
    "!mv pipelines/abalone pipelines/customer_churn"
   ]
  },
  {
   "cell_type": "code",
   "execution_count": 2,
   "metadata": {},
   "outputs": [
    {
     "name": "stdout",
     "output_type": "stream",
     "text": [
      "download: s3://sagemaker-sample-files/datasets/tabular/synthetic/churn.txt to ./churn.txt\n",
      "s3://sagemaker-us-east-1-272720691618/sagemaker/DEMO-xgboost-churn/data/RawData.csv\n"
     ]
    }
   ],
   "source": [
    "!aws s3 cp s3://sagemaker-sample-files/datasets/tabular/synthetic/churn.txt ./\n",
    "import boto3\n",
    "import os\n",
    "import sagemaker\n",
    "prefix = 'sagemaker/DEMO-xgboost-churn'\n",
    "region = boto3.Session().region_name\n",
    "default_bucket = sagemaker.session.Session().default_bucket()\n",
    "RawData = boto3.Session().resource('s3')\\\n",
    ".Bucket(default_bucket).Object(os.path.join(prefix, 'data/RawData.csv'))\\\n",
    ".upload_file('./churn.txt')\n",
    "print(os.path.join(\"s3://\",default_bucket, prefix, 'data/RawData.csv'))\n"
   ]
  },
  {
   "cell_type": "code",
   "execution_count": 8,
   "metadata": {},
   "outputs": [
    {
     "name": "stdout",
     "output_type": "stream",
     "text": [
      "  % Total    % Received % Xferd  Average Speed   Time    Time     Time  Current\n",
      "                                 Dload  Upload   Total   Spent    Left  Speed\n",
      "100  2726  100  2726    0     0  29956      0 --:--:-- --:--:-- --:--:-- 29956\n",
      "  % Total    % Received % Xferd  Average Speed   Time    Time     Time  Current\n",
      "                                 Dload  Upload   Total   Spent    Left  Speed\n",
      "100  9919  100  9919    0     0   569k      0 --:--:-- --:--:-- --:--:--  538k\n",
      "  % Total    % Received % Xferd  Average Speed   Time    Time     Time  Current\n",
      "                                 Dload  Upload   Total   Spent    Left  Speed\n",
      "100  2694  100  2694    0     0  26411      0 --:--:-- --:--:-- --:--:-- 26411\n"
     ]
    }
   ],
   "source": [
    "!curl https://raw.githubusercontent.com/aws-samples/amazon-sagemaker-immersion-day/master/ML%20Pipelines%20scripts/preprocess.py > pipelines/customer_churn/preprocess.py\n",
    "!curl https://raw.githubusercontent.com/aws-samples/amazon-sagemaker-immersion-day/master/ML%20Pipelines%20scripts/pipeline.py > pipelines/customer_churn/pipeline.py\n",
    "!curl https://raw.githubusercontent.com/aws-samples/amazon-sagemaker-immersion-day/master/ML%20Pipelines%20scripts/evaluate.py > pipelines/customer_churn/evaluate.py\n"
   ]
  },
  {
   "cell_type": "code",
   "execution_count": 4,
   "metadata": {},
   "outputs": [
    {
     "name": "stdout",
     "output_type": "stream",
     "text": [
      "CONTRIBUTING.md  codebuild-buildspec.yml\t    setup.py\n",
      "LICENSE\t\t img\t\t\t\t    tests\n",
      "README.md\t pipelines\t\t\t    tox.ini\n",
      "Untitled.ipynb\t sagemaker-pipelines-project.ipynb\n",
      "churn.txt\t setup.cfg\n"
     ]
    }
   ],
   "source": [
    "\n"
   ]
  },
  {
   "cell_type": "code",
   "execution_count": null,
   "metadata": {},
   "outputs": [],
   "source": []
  }
 ],
 "metadata": {
  "instance_type": "ml.t3.medium",
  "kernelspec": {
   "display_name": "Python 3 (Data Science)",
   "language": "python",
   "name": "python3__SAGEMAKER_INTERNAL__arn:aws:sagemaker:us-east-1:081325390199:image/datascience-1.0"
  },
  "language_info": {
   "codemirror_mode": {
    "name": "ipython",
    "version": 3
   },
   "file_extension": ".py",
   "mimetype": "text/x-python",
   "name": "python",
   "nbconvert_exporter": "python",
   "pygments_lexer": "ipython3",
   "version": "3.7.10"
  }
 },
 "nbformat": 4,
 "nbformat_minor": 4
}
