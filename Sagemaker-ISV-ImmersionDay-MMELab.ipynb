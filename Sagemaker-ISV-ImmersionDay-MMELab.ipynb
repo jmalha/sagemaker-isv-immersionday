{
 "cells": [
  {
   "cell_type": "markdown",
   "metadata": {},
   "source": [
    "# Sagemaker multi model endpoints (MME) lab\n",
    "\n",
    "#### In this notebook you will create a SageMaker MME endpoint using pre-existing model artifacts. You will learn how to invoke the models hosted on an MME endpoint and also how to add a new model on the fly"
   ]
  },
  {
   "cell_type": "markdown",
   "metadata": {},
   "source": [
    "## Imports and initializations"
   ]
  },
  {
   "cell_type": "code",
   "execution_count": null,
   "metadata": {},
   "outputs": [],
   "source": [
    "import boto3\n",
    "import sagemaker\n",
    "import time"
   ]
  },
  {
   "cell_type": "code",
   "execution_count": null,
   "metadata": {},
   "outputs": [],
   "source": [
    "from sagemaker.image_uris import retrieve\n",
    "from time import gmtime, strftime\n",
    "from sagemaker.amazon.amazon_estimator import image_uris\n",
    "\n",
    "sagemaker_session = sagemaker.Session()\n",
    "default_bucket = sagemaker_session.default_bucket()\n",
    "\n",
    "\n",
    "region = sagemaker_session.boto_region_name\n",
    "s3_client = boto3.client(\"s3\", region_name=region)\n",
    "sm_client = boto3.client(\"sagemaker\", region_name=region)\n",
    "sm_runtime_client = boto3.client(\"sagemaker-runtime\")\n",
    "role = sagemaker.get_execution_role()\n",
    "\n",
    "# S3 locations used for parameterizing the notebook run\n",
    "model_prefix = \"XGBOOST_BOSTON_HOUSING/multi_model_artifacts\"\n",
    "\n",
    "# S3 location of trained model artifact\n",
    "model_artifacts = f\"s3://{default_bucket}/{model_prefix}/\"\n",
    "#model_artifacts = 's3://amazon-lakeformation-forecast-blog-artifacts/mme-immersion-day/multi_model_artifacts'\n",
    "print(model_artifacts)\n",
    "\n",
    "\n",
    "# Location\n",
    "location = ['Chicago_IL', 'Houston_TX', 'LosAngeles_CA']\n",
    "\n",
    "test_data = [1997, 2527, 6, 2.5, 0.57, 1]"
   ]
  },
  {
   "cell_type": "markdown",
   "metadata": {},
   "source": [
    "## Copy all the pre-trained models into the local S3 bucket"
   ]
  },
  {
   "cell_type": "code",
   "execution_count": null,
   "metadata": {},
   "outputs": [],
   "source": [
    "s3 = boto3.resource('s3')\n",
    "bucket = s3.Bucket(default_bucket)\n",
    "\n",
    "for i in range (0,3):\n",
    "    copy_source = {'Bucket': 'amazon-lakeformation-forecast-blog-artifacts', 'Key': f'mme-immersion-day/multi_model_artifacts/{location[i]}.tar.gz'}\n",
    "    print (copy_source)\n",
    "    bucket.copy(copy_source, f\"{model_prefix}/{location[i]}.tar.gz\")\n"
   ]
  },
  {
   "cell_type": "markdown",
   "metadata": {},
   "source": [
    "## Create a SageMaker model object\n",
    "\n",
    "Here we are creating a SageMaker model object that specifies the container to use and the S3 location where the model.tar.gz files are located. The key items to note are:\n",
    "* \"Mode\" = \"MultiModel\". This tells Sagemaker to setup this model configuration object for an MME endpoint\n",
    "* \"ModelDataUrl\" = model_artifacts (a variable that points to the S3 bucket location where model.tar.gz files are)"
   ]
  },
  {
   "cell_type": "code",
   "execution_count": null,
   "metadata": {},
   "outputs": [],
   "source": [
    "# Retrieve the SageMaker managed XGBoost image\n",
    "training_image = retrieve(framework=\"xgboost\", region=region, version=\"1.3-1\")\n",
    "\n",
    "# Specify an unique model name that does not exist\n",
    "model_name = \"housing-prices-prediction-xgb\"\n",
    "primary_container = {\n",
    "                     \"Image\": training_image,\n",
    "                     \"ModelDataUrl\": model_artifacts,\n",
    "                     \"Mode\": \"MultiModel\"\n",
    "                    }\n",
    "\n",
    "model = sm_client.create_model(ModelName=model_name,\n",
    "                                   PrimaryContainer=primary_container,\n",
    "                                   ExecutionRoleArn=role)\n"
   ]
  },
  {
   "cell_type": "markdown",
   "metadata": {},
   "source": [
    "## Create SageMaker endpoint configuration\n",
    "\n",
    "The endpoint configuration specifies the infrastructure that will run behind your MME endpoint"
   ]
  },
  {
   "cell_type": "code",
   "execution_count": null,
   "metadata": {},
   "outputs": [],
   "source": [
    "# Endpoint Config name\n",
    "endpoint_config_name = f\"{model_name}-endpoint-config\"\n",
    "\n",
    "endpoint_config_response = sm_client.create_endpoint_config(EndpointConfigName=endpoint_config_name,\n",
    "                                                            ProductionVariants=[\n",
    "                                                                    {\n",
    "                                                                        \"InstanceType\": \"ml.m5.xlarge\",\n",
    "                                                                        \"InitialInstanceCount\": 1,\n",
    "                                                                        \"InitialVariantWeight\": 1,\n",
    "                                                                        \"ModelName\": model_name,\n",
    "                                                                        \"VariantName\": \"AllTraffic\",\n",
    "                                                                    }\n",
    "                                                                ]\n",
    "                                                            )"
   ]
  },
  {
   "cell_type": "markdown",
   "metadata": {},
   "source": [
    "## Create SageMaker endpoint"
   ]
  },
  {
   "cell_type": "code",
   "execution_count": null,
   "metadata": {},
   "outputs": [],
   "source": [
    "# Endpoint name\n",
    "endpoint_name = f\"{model_name}-endpoint\"\n",
    "\n",
    "endpoint_response = sm_client.create_endpoint(EndpointName=endpoint_name,\n",
    "                                              EndpointConfigName=endpoint_config_name\n",
    "                                             )  \n",
    " \n",
    "resp = sm_client.describe_endpoint(EndpointName=endpoint_name)\n",
    "status = resp[\"EndpointStatus\"]\n",
    "while status == \"Creating\":\n",
    "    print(f\"Endpoint Status: {status}...\")\n",
    "    time.sleep(60)\n",
    "    resp = sm_client.describe_endpoint(EndpointName=endpoint_name)\n",
    "    status = resp[\"EndpointStatus\"]\n",
    "print(f\"Endpoint Status: {status}\")\n"
   ]
  },
  {
   "cell_type": "markdown",
   "metadata": {},
   "source": [
    "## CHECKPOINT: Go to the Endpoints section within SageMaker Studio to see the endpoint being created"
   ]
  },
  {
   "cell_type": "markdown",
   "metadata": {},
   "source": [
    "## Invoke the multi model endpoint\n",
    "\n",
    "Here we are invoking 3 city models (Chicago, Houston, LosAngeles) - all 3 are hosted on the single MME endpoint by the fact that the model files are located in the S3 bucket that the SageMaker model (created earlier) is looking at"
   ]
  },
  {
   "cell_type": "code",
   "execution_count": null,
   "metadata": {},
   "outputs": [],
   "source": [
    "payload = ' '.join([str(elem) for elem in test_data])\n",
    "print('payload= '+payload)\n",
    "for i in range (0,3):\n",
    "    start_time = time.time()\n",
    "    predicted_value = sm_runtime_client.invoke_endpoint(EndpointName=endpoint_name, TargetModel=f\"{location[i]}.tar.gz\", ContentType=\"text/csv\", Body=payload)\n",
    "    duration = time.time() - start_time\n",
    "    print(f\"Predicted Value for {location[i]} target model:\\n ${predicted_value['Body'].read().decode('utf-8')}\")\n",
    "    print(\"took {:,d} ms\\n\".format(int(duration * 1000)))"
   ]
  },
  {
   "cell_type": "markdown",
   "metadata": {},
   "source": [
    "## Invoke the new NewYork model (with error)\n",
    "At first you will get an error because the model artifact for the NewYork model doesn't exist in the model_artifacts bucket. This is intentional to make it clear that the new model artifact needs to exist in the S3 bucket"
   ]
  },
  {
   "cell_type": "code",
   "execution_count": null,
   "metadata": {},
   "outputs": [],
   "source": [
    "predicted_value = sm_runtime_client.invoke_endpoint(EndpointName=endpoint_name, TargetModel=f\"NewYork_NY.tar.gz\", ContentType=\"text/csv\", Body=payload)\n",
    "print(f\"Predicted Value for NewYork_NY target model:\\n ${predicted_value['Body'].read().decode('utf-8')}\")"
   ]
  },
  {
   "cell_type": "markdown",
   "metadata": {},
   "source": [
    "## Copy the NewYork model into the MME S3 bucket\n",
    "\n",
    "Here we are copying the new model (NewYork_NY.tar.gz) to the S3 bucket registered with the MME endpoint"
   ]
  },
  {
   "cell_type": "code",
   "execution_count": null,
   "metadata": {},
   "outputs": [],
   "source": [
    "s3 = boto3.resource('s3')\n",
    "bucket = s3.Bucket(default_bucket)\n",
    "\n",
    "copy_source = {'Bucket': 'amazon-lakeformation-forecast-blog-artifacts', 'Key': 'mme-immersion-day/multi_model_artifacts/newyork/NewYork_NY.tar.gz'}\n",
    "print (copy_source)\n",
    "bucket.copy(copy_source, f'{model_prefix}/NewYork_NY.tar.gz')\n"
   ]
  },
  {
   "cell_type": "markdown",
   "metadata": {},
   "source": [
    "## Invoke the new model (with success)\n",
    "\n",
    "Note: Wait a few mins for S3's eventual consistency"
   ]
  },
  {
   "cell_type": "code",
   "execution_count": null,
   "metadata": {},
   "outputs": [],
   "source": [
    "start_time = time.time()\n",
    "predicted_value = sm_runtime_client.invoke_endpoint(EndpointName=endpoint_name, TargetModel=f\"NewYork_NY.tar.gz\", ContentType=\"text/csv\", Body=payload)\n",
    "duration = time.time() - start_time\n",
    "print(f\"Predicted Value for NewYork_NY target model:\\n ${predicted_value['Body'].read().decode('utf-8')}\")\n",
    "print(\"took {:,d} ms\\n\".format(int(duration * 1000)))\n"
   ]
  },
  {
   "cell_type": "markdown",
   "metadata": {},
   "source": [
    "## Invoke NewYork model again to see latency difference\n",
    "\n",
    "Here we invoke the NewYork model again to see the latency being significantly lower than the first invoke because on the first time, the model had to be downloaded from S3 but on the second invoke the model was already in memory"
   ]
  },
  {
   "cell_type": "code",
   "execution_count": null,
   "metadata": {},
   "outputs": [],
   "source": [
    "start_time = time.time()\n",
    "predicted_value = sm_runtime_client.invoke_endpoint(EndpointName=endpoint_name, TargetModel=f\"NewYork_NY.tar.gz\", ContentType=\"text/csv\", Body=payload)\n",
    "duration = time.time() - start_time\n",
    "print(f\"Predicted Value for NewYork_NY target model:\\n ${predicted_value['Body'].read().decode('utf-8')}\")\n",
    "print(\"took {:,d} ms\\n\".format(int(duration * 1000)))\n"
   ]
  },
  {
   "cell_type": "markdown",
   "metadata": {},
   "source": [
    "## Cleanup"
   ]
  },
  {
   "cell_type": "code",
   "execution_count": null,
   "metadata": {},
   "outputs": [],
   "source": [
    "# Delete model\n",
    "sm_client.delete_model(ModelName=model_name)\n",
    "\n",
    "# Delete endpoint configuration\n",
    "sm_client.delete_endpoint_config(EndpointConfigName=endpoint_config_name)\n",
    "\n",
    "# Delete endpoint\n",
    "sm_client.delete_endpoint(EndpointName=endpoint_name)\n"
   ]
  },
  {
   "cell_type": "code",
   "execution_count": null,
   "metadata": {},
   "outputs": [],
   "source": []
  }
 ],
 "metadata": {
  "instance_type": "ml.t3.medium",
  "kernelspec": {
   "display_name": "Python 3 (Data Science)",
   "language": "python",
   "name": "python3__SAGEMAKER_INTERNAL__arn:aws:sagemaker:us-east-1:081325390199:image/datascience-1.0"
  },
  "language_info": {
   "codemirror_mode": {
    "name": "ipython",
    "version": 3
   },
   "file_extension": ".py",
   "mimetype": "text/x-python",
   "name": "python",
   "nbconvert_exporter": "python",
   "pygments_lexer": "ipython3",
   "version": "3.7.10"
  }
 },
 "nbformat": 4,
 "nbformat_minor": 5
}
