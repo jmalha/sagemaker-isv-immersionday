{
 "cells": [
  {
   "cell_type": "markdown",
   "id": "ae00c735",
   "metadata": {},
   "source": [
    "# Sagemaker multi model endpoints (MME) lab\n",
    "\n",
    "#### In this notebook you will create a SageMaker MME endpoint using pre-existing model artifacts. You will learn how to invoke the models hosted on an MME endpoint and also how to add a new model on the fly"
   ]
  },
  {
   "cell_type": "markdown",
   "id": "0da9cab3",
   "metadata": {},
   "source": [
    "## Imports and initializations"
   ]
  },
  {
   "cell_type": "code",
   "execution_count": 1,
   "id": "9de13dd7",
   "metadata": {},
   "outputs": [],
   "source": [
    "import boto3\n",
    "import sagemaker\n",
    "import time"
   ]
  },
  {
   "cell_type": "code",
   "execution_count": 2,
   "id": "3a3b341e",
   "metadata": {},
   "outputs": [
    {
     "name": "stdout",
     "output_type": "stream",
     "text": [
      "s3://sagemaker-us-west-1-650222655237/XGBOOST_BOSTON_HOUSING/multi_model_artifacts/\n"
     ]
    }
   ],
   "source": [
    "from sagemaker.image_uris import retrieve\n",
    "from time import gmtime, strftime\n",
    "from sagemaker.amazon.amazon_estimator import image_uris\n",
    "\n",
    "sagemaker_session = sagemaker.Session()\n",
    "default_bucket = sagemaker_session.default_bucket()\n",
    "\n",
    "\n",
    "region = sagemaker_session.boto_region_name\n",
    "s3_client = boto3.client(\"s3\", region_name=region)\n",
    "sm_client = boto3.client(\"sagemaker\", region_name=region)\n",
    "sm_runtime_client = boto3.client(\"sagemaker-runtime\")\n",
    "role = sagemaker.get_execution_role()\n",
    "\n",
    "# S3 locations used for parameterizing the notebook run\n",
    "model_prefix = \"XGBOOST_BOSTON_HOUSING/multi_model_artifacts\"\n",
    "\n",
    "# S3 location of trained model artifact\n",
    "model_artifacts = f\"s3://{default_bucket}/{model_prefix}/\"\n",
    "#model_artifacts = 's3://amazon-lakeformation-forecast-blog-artifacts/mme-immersion-day/multi_model_artifacts'\n",
    "print(model_artifacts)\n",
    "\n",
    "\n",
    "# Location\n",
    "location = ['Chicago_IL', 'Houston_TX', 'LosAngeles_CA']\n",
    "\n",
    "test_data = [1997, 2527, 6, 2.5, 0.57, 1]"
   ]
  },
  {
   "cell_type": "markdown",
   "id": "a58711e8",
   "metadata": {},
   "source": [
    "## Copy all the pre-trained models into the local S3 bucket"
   ]
  },
  {
   "cell_type": "code",
   "execution_count": 3,
   "id": "b44ed9c3",
   "metadata": {},
   "outputs": [
    {
     "name": "stdout",
     "output_type": "stream",
     "text": [
      "{'Bucket': 'amazon-lakeformation-forecast-blog-artifacts', 'Key': 'mme-immersion-day/multi_model_artifacts/Chicago_IL.tar.gz'}\n",
      "{'Bucket': 'amazon-lakeformation-forecast-blog-artifacts', 'Key': 'mme-immersion-day/multi_model_artifacts/Houston_TX.tar.gz'}\n",
      "{'Bucket': 'amazon-lakeformation-forecast-blog-artifacts', 'Key': 'mme-immersion-day/multi_model_artifacts/LosAngeles_CA.tar.gz'}\n"
     ]
    }
   ],
   "source": [
    "s3 = boto3.resource('s3')\n",
    "bucket = s3.Bucket(default_bucket)\n",
    "\n",
    "for i in range (0,3):\n",
    "    copy_source = {'Bucket': 'amazon-lakeformation-forecast-blog-artifacts', 'Key': f'mme-immersion-day/multi_model_artifacts/{location[i]}.tar.gz'}\n",
    "    print (copy_source)\n",
    "    bucket.copy(copy_source, f\"{model_prefix}/{location[i]}.tar.gz\")\n"
   ]
  },
  {
   "cell_type": "markdown",
   "id": "6eb40c4b",
   "metadata": {},
   "source": [
    "## Create a SageMaker model object\n",
    "\n",
    "Here we are creating a SageMaker model object that specifies the container to use and the S3 location where the model.tar.gz files are located. The key items to note are:\n",
    "* \"Mode\" = \"MultiModel\". This tells Sagemaker to setup this model configuration object for an MME endpoint\n",
    "* \"ModelDataUrl\" = model_artifacts (a variable that points to the S3 bucket location where model.tar.gz files are)"
   ]
  },
  {
   "cell_type": "code",
   "execution_count": 4,
   "id": "85f81e59",
   "metadata": {},
   "outputs": [],
   "source": [
    "# Retrieve the SageMaker managed XGBoost image\n",
    "training_image = retrieve(framework=\"xgboost\", region=region, version=\"1.3-1\")\n",
    "\n",
    "# Specify an unique model name that does not exist\n",
    "model_name = \"housing-prices-prediction-xgb\"\n",
    "primary_container = {\n",
    "                     \"Image\": training_image,\n",
    "                     \"ModelDataUrl\": model_artifacts,\n",
    "                     \"Mode\": \"MultiModel\"\n",
    "                    }\n",
    "\n",
    "model = sm_client.create_model(ModelName=model_name,\n",
    "                                   PrimaryContainer=primary_container,\n",
    "                                   ExecutionRoleArn=role)\n"
   ]
  },
  {
   "cell_type": "markdown",
   "id": "b19ad989",
   "metadata": {},
   "source": [
    "## Create SageMaker endpoint configuration\n",
    "\n",
    "The endpoint configuration specifies the infrastructure that will run behind your MME endpoint"
   ]
  },
  {
   "cell_type": "code",
   "execution_count": 5,
   "id": "8872e3f6",
   "metadata": {},
   "outputs": [],
   "source": [
    "# Endpoint Config name\n",
    "endpoint_config_name = f\"{model_name}-endpoint-config\"\n",
    "\n",
    "endpoint_config_response = sm_client.create_endpoint_config(EndpointConfigName=endpoint_config_name,\n",
    "                                                            ProductionVariants=[\n",
    "                                                                    {\n",
    "                                                                        \"InstanceType\": \"ml.m5.xlarge\",\n",
    "                                                                        \"InitialInstanceCount\": 1,\n",
    "                                                                        \"InitialVariantWeight\": 1,\n",
    "                                                                        \"ModelName\": model_name,\n",
    "                                                                        \"VariantName\": \"AllTraffic\",\n",
    "                                                                    }\n",
    "                                                                ]\n",
    "                                                            )"
   ]
  },
  {
   "cell_type": "markdown",
   "id": "0655008a",
   "metadata": {},
   "source": [
    "## Create SageMaker endpoint"
   ]
  },
  {
   "cell_type": "code",
   "execution_count": 6,
   "id": "6403c68a",
   "metadata": {},
   "outputs": [
    {
     "name": "stdout",
     "output_type": "stream",
     "text": [
      "Endpoint Status: Creating...\n",
      "Endpoint Status: Creating...\n",
      "Endpoint Status: Creating...\n",
      "Endpoint Status: Creating...\n",
      "Endpoint Status: Creating...\n",
      "Endpoint Status: Creating...\n",
      "Endpoint Status: Creating...\n",
      "Endpoint Status: InService\n"
     ]
    }
   ],
   "source": [
    "# Endpoint name\n",
    "endpoint_name = f\"{model_name}-endpoint\"\n",
    "\n",
    "endpoint_response = sm_client.create_endpoint(EndpointName=endpoint_name,\n",
    "                                              EndpointConfigName=endpoint_config_name\n",
    "                                             )  \n",
    " \n",
    "resp = sm_client.describe_endpoint(EndpointName=endpoint_name)\n",
    "status = resp[\"EndpointStatus\"]\n",
    "while status == \"Creating\":\n",
    "    print(f\"Endpoint Status: {status}...\")\n",
    "    time.sleep(60)\n",
    "    resp = sm_client.describe_endpoint(EndpointName=endpoint_name)\n",
    "    status = resp[\"EndpointStatus\"]\n",
    "print(f\"Endpoint Status: {status}\")\n"
   ]
  },
  {
   "cell_type": "markdown",
   "id": "4a6f12cf",
   "metadata": {},
   "source": [
    "## CHECKPOINT: Go to the Endpoints section within SageMaker Studio to see the endpoint being created"
   ]
  },
  {
   "cell_type": "markdown",
   "id": "fd7a724b",
   "metadata": {},
   "source": [
    "## Invoke the multi model endpoint\n",
    "\n",
    "Here we are invoking 3 city models (Chicago, Houston, LosAngeles) - all 3 are hosted on the single MME endpoint by the fact that the model files are located in the S3 bucket that the SageMaker model (created earlier) is looking at"
   ]
  },
  {
   "cell_type": "code",
   "execution_count": 7,
   "id": "95322ee0",
   "metadata": {},
   "outputs": [
    {
     "name": "stdout",
     "output_type": "stream",
     "text": [
      "payload= 1997 2527 6 2.5 0.57 1\n",
      "Predicted Value for Chicago_IL target model:\n",
      " $[392504.75]\n",
      "took 1,459 ms\n",
      "\n",
      "Predicted Value for Houston_TX target model:\n",
      " $[387296.5625]\n",
      "took 1,157 ms\n",
      "\n",
      "Predicted Value for LosAngeles_CA target model:\n",
      " $[379517.5]\n",
      "took 1,099 ms\n",
      "\n"
     ]
    }
   ],
   "source": [
    "payload = ' '.join([str(elem) for elem in test_data])\n",
    "print('payload= '+payload)\n",
    "for i in range (0,3):\n",
    "    start_time = time.time()\n",
    "    predicted_value = sm_runtime_client.invoke_endpoint(EndpointName=endpoint_name, TargetModel=f\"{location[i]}.tar.gz\", ContentType=\"text/csv\", Body=payload)\n",
    "    duration = time.time() - start_time\n",
    "    print(f\"Predicted Value for {location[i]} target model:\\n ${predicted_value['Body'].read().decode('utf-8')}\")\n",
    "    print(\"took {:,d} ms\\n\".format(int(duration * 1000)))"
   ]
  },
  {
   "cell_type": "markdown",
   "id": "36713cfe",
   "metadata": {},
   "source": [
    "## Invoke the new NewYork model (with error)\n",
    "At first you will get an error because the model artifact for the NewYork model doesn't exist in the model_artifacts bucket. This is intentional to make it clear that the new model artifact needs to exist in the S3 bucket"
   ]
  },
  {
   "cell_type": "code",
   "execution_count": 8,
   "id": "868a9e2e",
   "metadata": {},
   "outputs": [
    {
     "ename": "ValidationError",
     "evalue": "An error occurred (ValidationError) when calling the InvokeEndpoint operation: Failed to download model data(bucket: sagemaker-us-west-1-650222655237, key: XGBOOST_BOSTON_HOUSING/multi_model_artifacts/NewYork_NY.tar.gz). Please ensure that there is an object located at the URL and that the role passed to CreateModel has permissions to download the model.\n",
     "output_type": "error",
     "traceback": [
      "\u001b[0;31m---------------------------------------------------------------------------\u001b[0m",
      "\u001b[0;31mValidationError\u001b[0m                           Traceback (most recent call last)",
      "\u001b[0;32m<ipython-input-8-e592555c5ae0>\u001b[0m in \u001b[0;36m<module>\u001b[0;34m\u001b[0m\n\u001b[0;32m----> 1\u001b[0;31m \u001b[0mpredicted_value\u001b[0m \u001b[0;34m=\u001b[0m \u001b[0msm_runtime_client\u001b[0m\u001b[0;34m.\u001b[0m\u001b[0minvoke_endpoint\u001b[0m\u001b[0;34m(\u001b[0m\u001b[0mEndpointName\u001b[0m\u001b[0;34m=\u001b[0m\u001b[0mendpoint_name\u001b[0m\u001b[0;34m,\u001b[0m \u001b[0mTargetModel\u001b[0m\u001b[0;34m=\u001b[0m\u001b[0;34mf\"NewYork_NY.tar.gz\"\u001b[0m\u001b[0;34m,\u001b[0m \u001b[0mContentType\u001b[0m\u001b[0;34m=\u001b[0m\u001b[0;34m\"text/csv\"\u001b[0m\u001b[0;34m,\u001b[0m \u001b[0mBody\u001b[0m\u001b[0;34m=\u001b[0m\u001b[0mpayload\u001b[0m\u001b[0;34m)\u001b[0m\u001b[0;34m\u001b[0m\u001b[0;34m\u001b[0m\u001b[0m\n\u001b[0m\u001b[1;32m      2\u001b[0m \u001b[0mprint\u001b[0m\u001b[0;34m(\u001b[0m\u001b[0;34mf\"Predicted Value for NewYork_NY target model:\\n ${predicted_value['Body'].read().decode('utf-8')}\"\u001b[0m\u001b[0;34m)\u001b[0m\u001b[0;34m\u001b[0m\u001b[0;34m\u001b[0m\u001b[0m\n",
      "\u001b[0;32m~/anaconda3/envs/python3/lib/python3.6/site-packages/botocore/client.py\u001b[0m in \u001b[0;36m_api_call\u001b[0;34m(self, *args, **kwargs)\u001b[0m\n\u001b[1;32m    393\u001b[0m                     \"%s() only accepts keyword arguments.\" % py_operation_name)\n\u001b[1;32m    394\u001b[0m             \u001b[0;31m# The \"self\" in this scope is referring to the BaseClient.\u001b[0m\u001b[0;34m\u001b[0m\u001b[0;34m\u001b[0m\u001b[0;34m\u001b[0m\u001b[0m\n\u001b[0;32m--> 395\u001b[0;31m             \u001b[0;32mreturn\u001b[0m \u001b[0mself\u001b[0m\u001b[0;34m.\u001b[0m\u001b[0m_make_api_call\u001b[0m\u001b[0;34m(\u001b[0m\u001b[0moperation_name\u001b[0m\u001b[0;34m,\u001b[0m \u001b[0mkwargs\u001b[0m\u001b[0;34m)\u001b[0m\u001b[0;34m\u001b[0m\u001b[0;34m\u001b[0m\u001b[0m\n\u001b[0m\u001b[1;32m    396\u001b[0m \u001b[0;34m\u001b[0m\u001b[0m\n\u001b[1;32m    397\u001b[0m         \u001b[0m_api_call\u001b[0m\u001b[0;34m.\u001b[0m\u001b[0m__name__\u001b[0m \u001b[0;34m=\u001b[0m \u001b[0mstr\u001b[0m\u001b[0;34m(\u001b[0m\u001b[0mpy_operation_name\u001b[0m\u001b[0;34m)\u001b[0m\u001b[0;34m\u001b[0m\u001b[0;34m\u001b[0m\u001b[0m\n",
      "\u001b[0;32m~/anaconda3/envs/python3/lib/python3.6/site-packages/botocore/client.py\u001b[0m in \u001b[0;36m_make_api_call\u001b[0;34m(self, operation_name, api_params)\u001b[0m\n\u001b[1;32m    723\u001b[0m             \u001b[0merror_code\u001b[0m \u001b[0;34m=\u001b[0m \u001b[0mparsed_response\u001b[0m\u001b[0;34m.\u001b[0m\u001b[0mget\u001b[0m\u001b[0;34m(\u001b[0m\u001b[0;34m\"Error\"\u001b[0m\u001b[0;34m,\u001b[0m \u001b[0;34m{\u001b[0m\u001b[0;34m}\u001b[0m\u001b[0;34m)\u001b[0m\u001b[0;34m.\u001b[0m\u001b[0mget\u001b[0m\u001b[0;34m(\u001b[0m\u001b[0;34m\"Code\"\u001b[0m\u001b[0;34m)\u001b[0m\u001b[0;34m\u001b[0m\u001b[0;34m\u001b[0m\u001b[0m\n\u001b[1;32m    724\u001b[0m             \u001b[0merror_class\u001b[0m \u001b[0;34m=\u001b[0m \u001b[0mself\u001b[0m\u001b[0;34m.\u001b[0m\u001b[0mexceptions\u001b[0m\u001b[0;34m.\u001b[0m\u001b[0mfrom_code\u001b[0m\u001b[0;34m(\u001b[0m\u001b[0merror_code\u001b[0m\u001b[0;34m)\u001b[0m\u001b[0;34m\u001b[0m\u001b[0;34m\u001b[0m\u001b[0m\n\u001b[0;32m--> 725\u001b[0;31m             \u001b[0;32mraise\u001b[0m \u001b[0merror_class\u001b[0m\u001b[0;34m(\u001b[0m\u001b[0mparsed_response\u001b[0m\u001b[0;34m,\u001b[0m \u001b[0moperation_name\u001b[0m\u001b[0;34m)\u001b[0m\u001b[0;34m\u001b[0m\u001b[0;34m\u001b[0m\u001b[0m\n\u001b[0m\u001b[1;32m    726\u001b[0m         \u001b[0;32melse\u001b[0m\u001b[0;34m:\u001b[0m\u001b[0;34m\u001b[0m\u001b[0;34m\u001b[0m\u001b[0m\n\u001b[1;32m    727\u001b[0m             \u001b[0;32mreturn\u001b[0m \u001b[0mparsed_response\u001b[0m\u001b[0;34m\u001b[0m\u001b[0;34m\u001b[0m\u001b[0m\n",
      "\u001b[0;31mValidationError\u001b[0m: An error occurred (ValidationError) when calling the InvokeEndpoint operation: Failed to download model data(bucket: sagemaker-us-west-1-650222655237, key: XGBOOST_BOSTON_HOUSING/multi_model_artifacts/NewYork_NY.tar.gz). Please ensure that there is an object located at the URL and that the role passed to CreateModel has permissions to download the model.\n"
     ]
    }
   ],
   "source": [
    "predicted_value = sm_runtime_client.invoke_endpoint(EndpointName=endpoint_name, TargetModel=f\"NewYork_NY.tar.gz\", ContentType=\"text/csv\", Body=payload)\n",
    "print(f\"Predicted Value for NewYork_NY target model:\\n ${predicted_value['Body'].read().decode('utf-8')}\")"
   ]
  },
  {
   "cell_type": "markdown",
   "id": "8e51dfdb",
   "metadata": {},
   "source": [
    "## Copy the NewYork model into the MME S3 bucket\n",
    "\n",
    "Here we are copying the new model (NewYork_NY.tar.gz) to the S3 bucket registered with the MME endpoint"
   ]
  },
  {
   "cell_type": "code",
   "execution_count": 9,
   "id": "8a6baf50",
   "metadata": {},
   "outputs": [
    {
     "name": "stdout",
     "output_type": "stream",
     "text": [
      "{'Bucket': 'amazon-lakeformation-forecast-blog-artifacts', 'Key': 'mme-immersion-day/multi_model_artifacts/newyork/NewYork_NY.tar.gz'}\n"
     ]
    }
   ],
   "source": [
    "s3 = boto3.resource('s3')\n",
    "bucket = s3.Bucket(default_bucket)\n",
    "\n",
    "copy_source = {'Bucket': 'amazon-lakeformation-forecast-blog-artifacts', 'Key': 'mme-immersion-day/multi_model_artifacts/newyork/NewYork_NY.tar.gz'}\n",
    "print (copy_source)\n",
    "bucket.copy(copy_source, f'{model_prefix}/NewYork_NY.tar.gz')\n"
   ]
  },
  {
   "cell_type": "markdown",
   "id": "784ca580",
   "metadata": {},
   "source": [
    "## Invoke the new model (with success)\n",
    "\n",
    "Note: Wait a few mins for S3's eventual consistency"
   ]
  },
  {
   "cell_type": "code",
   "execution_count": 16,
   "id": "63019b93",
   "metadata": {},
   "outputs": [
    {
     "name": "stdout",
     "output_type": "stream",
     "text": [
      "Predicted Value for NewYork_NY target model:\n",
      " $[390451.53125]\n",
      "took 1,090 ms\n",
      "\n"
     ]
    }
   ],
   "source": [
    "start_time = time.time()\n",
    "predicted_value = sm_runtime_client.invoke_endpoint(EndpointName=endpoint_name, TargetModel=f\"NewYork_NY.tar.gz\", ContentType=\"text/csv\", Body=payload)\n",
    "duration = time.time() - start_time\n",
    "print(f\"Predicted Value for NewYork_NY target model:\\n ${predicted_value['Body'].read().decode('utf-8')}\")\n",
    "print(\"took {:,d} ms\\n\".format(int(duration * 1000)))\n"
   ]
  },
  {
   "cell_type": "markdown",
   "id": "21201478",
   "metadata": {},
   "source": [
    "## Invoke NewYork model again to see latency difference\n",
    "\n",
    "Here we invoke the NewYork model again to see the latency being significantly lower than the first invoke because on the first time, the model had to be downloaded from S3 but on the second invoke the model was already in memory"
   ]
  },
  {
   "cell_type": "code",
   "execution_count": 17,
   "id": "46d2a04d",
   "metadata": {},
   "outputs": [
    {
     "name": "stdout",
     "output_type": "stream",
     "text": [
      "Predicted Value for NewYork_NY target model:\n",
      " $[390451.53125]\n",
      "took 14 ms\n",
      "\n"
     ]
    }
   ],
   "source": [
    "start_time = time.time()\n",
    "predicted_value = sm_runtime_client.invoke_endpoint(EndpointName=endpoint_name, TargetModel=f\"NewYork_NY.tar.gz\", ContentType=\"text/csv\", Body=payload)\n",
    "duration = time.time() - start_time\n",
    "print(f\"Predicted Value for NewYork_NY target model:\\n ${predicted_value['Body'].read().decode('utf-8')}\")\n",
    "print(\"took {:,d} ms\\n\".format(int(duration * 1000)))\n"
   ]
  },
  {
   "cell_type": "markdown",
   "id": "4514dcdf",
   "metadata": {},
   "source": [
    "## Cleanup"
   ]
  },
  {
   "cell_type": "code",
   "execution_count": 18,
   "id": "022ebec4",
   "metadata": {},
   "outputs": [
    {
     "data": {
      "text/plain": [
       "{'ResponseMetadata': {'RequestId': '372a2fc7-cb62-40fe-b392-7c4e4dd26698',\n",
       "  'HTTPStatusCode': 200,\n",
       "  'HTTPHeaders': {'x-amzn-requestid': '372a2fc7-cb62-40fe-b392-7c4e4dd26698',\n",
       "   'content-type': 'application/x-amz-json-1.1',\n",
       "   'content-length': '0',\n",
       "   'date': 'Sun, 14 Aug 2022 06:42:53 GMT'},\n",
       "  'RetryAttempts': 0}}"
      ]
     },
     "execution_count": 18,
     "metadata": {},
     "output_type": "execute_result"
    }
   ],
   "source": [
    "# Delete model\n",
    "sm_client.delete_model(ModelName=model_name)\n",
    "\n",
    "# Delete endpoint configuration\n",
    "sm_client.delete_endpoint_config(EndpointConfigName=endpoint_config_name)\n",
    "\n",
    "# Delete endpoint\n",
    "sm_client.delete_endpoint(EndpointName=endpoint_name)\n"
   ]
  },
  {
   "cell_type": "code",
   "execution_count": null,
   "id": "bb4c156c",
   "metadata": {},
   "outputs": [],
   "source": []
  }
 ],
 "metadata": {
  "kernelspec": {
   "display_name": "conda_python3",
   "language": "python",
   "name": "conda_python3"
  },
  "language_info": {
   "codemirror_mode": {
    "name": "ipython",
    "version": 3
   },
   "file_extension": ".py",
   "mimetype": "text/x-python",
   "name": "python",
   "nbconvert_exporter": "python",
   "pygments_lexer": "ipython3",
   "version": "3.6.13"
  }
 },
 "nbformat": 4,
 "nbformat_minor": 5
}
